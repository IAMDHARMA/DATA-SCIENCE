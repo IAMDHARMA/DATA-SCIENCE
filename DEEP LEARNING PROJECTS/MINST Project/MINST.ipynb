{
 "cells": [
  {
   "cell_type": "code",
   "execution_count": 1,
   "id": "8b8892ab",
   "metadata": {},
   "outputs": [],
   "source": [
    "import numpy as np\n",
    "import matplotlib.pyplot as plt\n",
    "import tensorflow as tf\n",
    "from tensorflow import keras"
   ]
  },
  {
   "cell_type": "code",
   "execution_count": 2,
   "id": "9d827206",
   "metadata": {},
   "outputs": [],
   "source": [
    "(X_train,y_train) , (X_test,y_test) = keras.datasets.mnist.load_data()"
   ]
  },
  {
   "cell_type": "code",
   "execution_count": 3,
   "id": "b825a0cd",
   "metadata": {},
   "outputs": [
    {
     "data": {
      "text/plain": [
       "array([[  0,   0,   0,   0,   0,   0,   0,   0,   0,   0,   0,   0,   0,\n",
       "          0,   0,   0,   0,   0,   0,   0,   0,   0,   0,   0,   0,   0,\n",
       "          0,   0],\n",
       "       [  0,   0,   0,   0,   0,   0,   0,   0,   0,   0,   0,   0,   0,\n",
       "          0,   0,   0,   0,   0,   0,   0,   0,   0,   0,   0,   0,   0,\n",
       "          0,   0],\n",
       "       [  0,   0,   0,   0,   0,   0,   0,   0,   0,   0,   0,   0,   0,\n",
       "          0,   0,   0,   0,   0,   0,   0,   0,   0,   0,   0,   0,   0,\n",
       "          0,   0],\n",
       "       [  0,   0,   0,   0,   0,   0,   0,   0,   0,   0,   0,   0,   0,\n",
       "          0,   0,   0,   0,   0,   0,   0,   0,   0,   0,   0,   0,   0,\n",
       "          0,   0],\n",
       "       [  0,   0,   0,   0,   0,   0,   0,   0,   0,   0,   0,   0,   0,\n",
       "          0,   0,   0,   0,   0,   0,   0,   0,   0,   0,   0,   0,   0,\n",
       "          0,   0],\n",
       "       [  0,   0,   0,   0,   0,   0,   0,   0,   0,   0,   0,   0,   3,\n",
       "         18,  18,  18, 126, 136, 175,  26, 166, 255, 247, 127,   0,   0,\n",
       "          0,   0],\n",
       "       [  0,   0,   0,   0,   0,   0,   0,   0,  30,  36,  94, 154, 170,\n",
       "        253, 253, 253, 253, 253, 225, 172, 253, 242, 195,  64,   0,   0,\n",
       "          0,   0],\n",
       "       [  0,   0,   0,   0,   0,   0,   0,  49, 238, 253, 253, 253, 253,\n",
       "        253, 253, 253, 253, 251,  93,  82,  82,  56,  39,   0,   0,   0,\n",
       "          0,   0],\n",
       "       [  0,   0,   0,   0,   0,   0,   0,  18, 219, 253, 253, 253, 253,\n",
       "        253, 198, 182, 247, 241,   0,   0,   0,   0,   0,   0,   0,   0,\n",
       "          0,   0],\n",
       "       [  0,   0,   0,   0,   0,   0,   0,   0,  80, 156, 107, 253, 253,\n",
       "        205,  11,   0,  43, 154,   0,   0,   0,   0,   0,   0,   0,   0,\n",
       "          0,   0],\n",
       "       [  0,   0,   0,   0,   0,   0,   0,   0,   0,  14,   1, 154, 253,\n",
       "         90,   0,   0,   0,   0,   0,   0,   0,   0,   0,   0,   0,   0,\n",
       "          0,   0],\n",
       "       [  0,   0,   0,   0,   0,   0,   0,   0,   0,   0,   0, 139, 253,\n",
       "        190,   2,   0,   0,   0,   0,   0,   0,   0,   0,   0,   0,   0,\n",
       "          0,   0],\n",
       "       [  0,   0,   0,   0,   0,   0,   0,   0,   0,   0,   0,  11, 190,\n",
       "        253,  70,   0,   0,   0,   0,   0,   0,   0,   0,   0,   0,   0,\n",
       "          0,   0],\n",
       "       [  0,   0,   0,   0,   0,   0,   0,   0,   0,   0,   0,   0,  35,\n",
       "        241, 225, 160, 108,   1,   0,   0,   0,   0,   0,   0,   0,   0,\n",
       "          0,   0],\n",
       "       [  0,   0,   0,   0,   0,   0,   0,   0,   0,   0,   0,   0,   0,\n",
       "         81, 240, 253, 253, 119,  25,   0,   0,   0,   0,   0,   0,   0,\n",
       "          0,   0],\n",
       "       [  0,   0,   0,   0,   0,   0,   0,   0,   0,   0,   0,   0,   0,\n",
       "          0,  45, 186, 253, 253, 150,  27,   0,   0,   0,   0,   0,   0,\n",
       "          0,   0],\n",
       "       [  0,   0,   0,   0,   0,   0,   0,   0,   0,   0,   0,   0,   0,\n",
       "          0,   0,  16,  93, 252, 253, 187,   0,   0,   0,   0,   0,   0,\n",
       "          0,   0],\n",
       "       [  0,   0,   0,   0,   0,   0,   0,   0,   0,   0,   0,   0,   0,\n",
       "          0,   0,   0,   0, 249, 253, 249,  64,   0,   0,   0,   0,   0,\n",
       "          0,   0],\n",
       "       [  0,   0,   0,   0,   0,   0,   0,   0,   0,   0,   0,   0,   0,\n",
       "          0,  46, 130, 183, 253, 253, 207,   2,   0,   0,   0,   0,   0,\n",
       "          0,   0],\n",
       "       [  0,   0,   0,   0,   0,   0,   0,   0,   0,   0,   0,   0,  39,\n",
       "        148, 229, 253, 253, 253, 250, 182,   0,   0,   0,   0,   0,   0,\n",
       "          0,   0],\n",
       "       [  0,   0,   0,   0,   0,   0,   0,   0,   0,   0,  24, 114, 221,\n",
       "        253, 253, 253, 253, 201,  78,   0,   0,   0,   0,   0,   0,   0,\n",
       "          0,   0],\n",
       "       [  0,   0,   0,   0,   0,   0,   0,   0,  23,  66, 213, 253, 253,\n",
       "        253, 253, 198,  81,   2,   0,   0,   0,   0,   0,   0,   0,   0,\n",
       "          0,   0],\n",
       "       [  0,   0,   0,   0,   0,   0,  18, 171, 219, 253, 253, 253, 253,\n",
       "        195,  80,   9,   0,   0,   0,   0,   0,   0,   0,   0,   0,   0,\n",
       "          0,   0],\n",
       "       [  0,   0,   0,   0,  55, 172, 226, 253, 253, 253, 253, 244, 133,\n",
       "         11,   0,   0,   0,   0,   0,   0,   0,   0,   0,   0,   0,   0,\n",
       "          0,   0],\n",
       "       [  0,   0,   0,   0, 136, 253, 253, 253, 212, 135, 132,  16,   0,\n",
       "          0,   0,   0,   0,   0,   0,   0,   0,   0,   0,   0,   0,   0,\n",
       "          0,   0],\n",
       "       [  0,   0,   0,   0,   0,   0,   0,   0,   0,   0,   0,   0,   0,\n",
       "          0,   0,   0,   0,   0,   0,   0,   0,   0,   0,   0,   0,   0,\n",
       "          0,   0],\n",
       "       [  0,   0,   0,   0,   0,   0,   0,   0,   0,   0,   0,   0,   0,\n",
       "          0,   0,   0,   0,   0,   0,   0,   0,   0,   0,   0,   0,   0,\n",
       "          0,   0],\n",
       "       [  0,   0,   0,   0,   0,   0,   0,   0,   0,   0,   0,   0,   0,\n",
       "          0,   0,   0,   0,   0,   0,   0,   0,   0,   0,   0,   0,   0,\n",
       "          0,   0]], dtype=uint8)"
      ]
     },
     "execution_count": 3,
     "metadata": {},
     "output_type": "execute_result"
    }
   ],
   "source": [
    "X_train[0]"
   ]
  },
  {
   "cell_type": "code",
   "execution_count": 4,
   "id": "b5b8e8e3",
   "metadata": {},
   "outputs": [
    {
     "data": {
      "text/plain": [
       "60000"
      ]
     },
     "execution_count": 4,
     "metadata": {},
     "output_type": "execute_result"
    }
   ],
   "source": [
    "len(X_train)"
   ]
  },
  {
   "cell_type": "code",
   "execution_count": 5,
   "id": "8346aeb9",
   "metadata": {},
   "outputs": [
    {
     "data": {
      "text/plain": [
       "10000"
      ]
     },
     "execution_count": 5,
     "metadata": {},
     "output_type": "execute_result"
    }
   ],
   "source": [
    "len(X_test)"
   ]
  },
  {
   "cell_type": "code",
   "execution_count": 6,
   "id": "a191af5b",
   "metadata": {},
   "outputs": [
    {
     "data": {
      "text/plain": [
       "array([1, 2, 1, 3])"
      ]
     },
     "execution_count": 6,
     "metadata": {},
     "output_type": "execute_result"
    }
   ],
   "source": [
    "np.array([[1,2],[1,3]]).flatten()"
   ]
  },
  {
   "cell_type": "code",
   "execution_count": 7,
   "id": "4798f40f",
   "metadata": {},
   "outputs": [
    {
     "data": {
      "text/plain": [
       "(28, 28)"
      ]
     },
     "execution_count": 7,
     "metadata": {},
     "output_type": "execute_result"
    }
   ],
   "source": [
    "X_train[0].shape"
   ]
  },
  {
   "cell_type": "code",
   "execution_count": 8,
   "id": "31045d85",
   "metadata": {},
   "outputs": [
    {
     "data": {
      "text/plain": [
       "<matplotlib.image.AxesImage at 0x194d42ea900>"
      ]
     },
     "execution_count": 8,
     "metadata": {},
     "output_type": "execute_result"
    },
    {
     "data": {
      "image/png": "[encoded data removed]",
      "text/plain": [
       "<Figure size 480x480 with 1 Axes>"
      ]
     },
     "metadata": {},
     "output_type": "display_data"
    }
   ],
   "source": [
    "plt.matshow(X_train[155])"
   ]
  },
  {
   "cell_type": "code",
   "execution_count": 9,
   "id": "eb7a53f1",
   "metadata": {},
   "outputs": [
    {
     "data": {
      "text/plain": [
       "np.uint8(6)"
      ]
     },
     "execution_count": 9,
     "metadata": {},
     "output_type": "execute_result"
    }
   ],
   "source": [
    "y_train[155]"
   ]
  },
  {
   "cell_type": "code",
   "execution_count": 10,
   "id": "18c2f833",
   "metadata": {},
   "outputs": [
    {
     "data": {
      "text/plain": [
       "(60000, 28, 28)"
      ]
     },
     "execution_count": 10,
     "metadata": {},
     "output_type": "execute_result"
    }
   ],
   "source": [
    "X_train.shape"
   ]
  },
  {
   "cell_type": "code",
   "execution_count": 11,
   "id": "9f799545",
   "metadata": {},
   "outputs": [
    {
     "data": {
      "text/plain": [
       "784"
      ]
     },
     "execution_count": 11,
     "metadata": {},
     "output_type": "execute_result"
    }
   ],
   "source": [
    "28*28"
   ]
  },
  {
   "cell_type": "code",
   "execution_count": 12,
   "id": "5dec6191",
   "metadata": {},
   "outputs": [],
   "source": [
    "X_train_flattend = X_train.reshape(len(X_train),28*28)\n",
    "X_test_flattend = X_test.reshape(len(X_test),28*28)"
   ]
  },
  {
   "cell_type": "code",
   "execution_count": 13,
   "id": "7268c228",
   "metadata": {},
   "outputs": [],
   "source": [
    "X_train_flattend=X_train.reshape(len(X_train),28*28)/255\n",
    "X_test_flattend=X_test.reshape(len(X_test),28*28)/255"
   ]
  },
  {
   "cell_type": "code",
   "execution_count": 14,
   "id": "a8c425e5",
   "metadata": {},
   "outputs": [
    {
     "data": {
      "text/plain": [
       "(60000, 784)"
      ]
     },
     "execution_count": 14,
     "metadata": {},
     "output_type": "execute_result"
    }
   ],
   "source": [
    "X_train_flattend.shape"
   ]
  },
  {
   "cell_type": "code",
   "execution_count": 15,
   "id": "ace2ad7c",
   "metadata": {},
   "outputs": [
    {
     "data": {
      "text/plain": [
       "array([0.        , 0.        , 0.        , 0.        , 0.        ,\n",
       "       0.        , 0.        , 0.        , 0.        , 0.        ,\n",
       "       0.        , 0.        , 0.        , 0.        , 0.        ,\n",
       "       0.        , 0.        , 0.        , 0.        , 0.        ,\n",
       "       0.        , 0.        , 0.        , 0.        , 0.        ,\n",
       "       0.        , 0.        , 0.        , 0.        , 0.        ,\n",
       "       0.        , 0.        , 0.        , 0.        , 0.        ,\n",
       "       0.        , 0.        , 0.        , 0.        , 0.        ,\n",
       "       0.        , 0.        , 0.        , 0.        , 0.        ,\n",
       "       0.        , 0.        , 0.        , 0.        , 0.        ,\n",
       "       0.        , 0.        , 0.01176471, 0.07058824, 0.07058824,\n",
       "       0.07058824, 0.49411765, 0.53333333, 0.68627451, 0.10196078,\n",
       "       0.65098039, 1.        , 0.96862745, 0.49803922, 0.        ,\n",
       "       0.        , 0.        , 0.        , 0.        , 0.        ,\n",
       "       0.        , 0.        , 0.        , 0.        , 0.        ,\n",
       "       0.        , 0.11764706, 0.14117647, 0.36862745, 0.60392157,\n",
       "       0.66666667, 0.99215686, 0.99215686, 0.99215686, 0.99215686,\n",
       "       0.99215686, 0.88235294, 0.6745098 , 0.99215686, 0.94901961,\n",
       "       0.76470588, 0.25098039, 0.        , 0.        , 0.        ,\n",
       "       0.        , 0.        , 0.        , 0.        , 0.        ])"
      ]
     },
     "execution_count": 15,
     "metadata": {},
     "output_type": "execute_result"
    }
   ],
   "source": [
    "X_train_flattend[0][100:200]"
   ]
  },
  {
   "cell_type": "markdown",
   "id": "141042ba",
   "metadata": {},
   "source": [
    "## Very simple neural network with no hidden layers"
   ]
  },
  {
   "cell_type": "code",
   "execution_count": 16,
   "id": "71a500ae",
   "metadata": {},
   "outputs": [
    {
     "name": "stderr",
     "output_type": "stream",
     "text": [
      "c:\\Users\\Dharm\\AppData\\Local\\Programs\\Python\\Python313\\Lib\\site-packages\\keras\\src\\layers\\core\\dense.py:92: UserWarning: Do not pass an `input_shape`/`input_dim` argument to a layer. When using Sequential models, prefer using an `Input(shape)` object as the first layer in the model instead.\n",
      "  super().__init__(activity_regularizer=activity_regularizer, **kwargs)\n"
     ]
    },
    {
     "name": "stdout",
     "output_type": "stream",
     "text": [
      "Epoch 1/10\n",
      "\u001b[1m1875/1875\u001b[0m \u001b[32m━━━━━━━━━━━━━━━━━━━━\u001b[0m\u001b[37m\u001b[0m \u001b[1m3s\u001b[0m 1ms/step - accuracy: 0.8778 - loss: 0.4690\n",
      "Epoch 2/10\n",
      "\u001b[1m1875/1875\u001b[0m \u001b[32m━━━━━━━━━━━━━━━━━━━━\u001b[0m\u001b[37m\u001b[0m \u001b[1m2s\u001b[0m 1ms/step - accuracy: 0.9146 - loss: 0.3042\n",
      "Epoch 3/10\n",
      "\u001b[1m1875/1875\u001b[0m \u001b[32m━━━━━━━━━━━━━━━━━━━━\u001b[0m\u001b[37m\u001b[0m \u001b[1m2s\u001b[0m 999us/step - accuracy: 0.9215 - loss: 0.2836\n",
      "Epoch 4/10\n",
      "\u001b[1m1875/1875\u001b[0m \u001b[32m━━━━━━━━━━━━━━━━━━━━\u001b[0m\u001b[37m\u001b[0m \u001b[1m2s\u001b[0m 1ms/step - accuracy: 0.9235 - loss: 0.2730\n",
      "Epoch 5/10\n",
      "\u001b[1m1875/1875\u001b[0m \u001b[32m━━━━━━━━━━━━━━━━━━━━\u001b[0m\u001b[37m\u001b[0m \u001b[1m2s\u001b[0m 1ms/step - accuracy: 0.9261 - loss: 0.2665\n",
      "Epoch 6/10\n",
      "\u001b[1m1875/1875\u001b[0m \u001b[32m━━━━━━━━━━━━━━━━━━━━\u001b[0m\u001b[37m\u001b[0m \u001b[1m2s\u001b[0m 1ms/step - accuracy: 0.9275 - loss: 0.2623\n",
      "Epoch 7/10\n",
      "\u001b[1m1875/1875\u001b[0m \u001b[32m━━━━━━━━━━━━━━━━━━━━\u001b[0m\u001b[37m\u001b[0m \u001b[1m2s\u001b[0m 1ms/step - accuracy: 0.9284 - loss: 0.2584\n",
      "Epoch 8/10\n",
      "\u001b[1m1875/1875\u001b[0m \u001b[32m━━━━━━━━━━━━━━━━━━━━\u001b[0m\u001b[37m\u001b[0m \u001b[1m2s\u001b[0m 1ms/step - accuracy: 0.9286 - loss: 0.2554\n",
      "Epoch 9/10\n",
      "\u001b[1m1875/1875\u001b[0m \u001b[32m━━━━━━━━━━━━━━━━━━━━\u001b[0m\u001b[37m\u001b[0m \u001b[1m2s\u001b[0m 1ms/step - accuracy: 0.9294 - loss: 0.2533  \n",
      "Epoch 10/10\n",
      "\u001b[1m1875/1875\u001b[0m \u001b[32m━━━━━━━━━━━━━━━━━━━━\u001b[0m\u001b[37m\u001b[0m \u001b[1m2s\u001b[0m 1ms/step - accuracy: 0.9306 - loss: 0.2511  \n"
     ]
    },
    {
     "data": {
      "text/plain": [
       "<keras.src.callbacks.history.History at 0x194f172c050>"
      ]
     },
     "execution_count": 16,
     "metadata": {},
     "output_type": "execute_result"
    }
   ],
   "source": [
    "model = keras.Sequential([\n",
    "    keras.layers.Dense(10, input_shape=(784,), activation='sigmoid')\n",
    "])\n",
    "\n",
    "model.compile(optimizer='adam',\n",
    "              loss='sparse_categorical_crossentropy',\n",
    "              metrics=['accuracy']\n",
    "              )\n",
    "\n",
    "model.fit(X_train_flattend, y_train, epochs=10)"
   ]
  },
  {
   "cell_type": "code",
   "execution_count": 17,
   "id": "dc14df10",
   "metadata": {},
   "outputs": [
    {
     "name": "stdout",
     "output_type": "stream",
     "text": [
      "\u001b[1m313/313\u001b[0m \u001b[32m━━━━━━━━━━━━━━━━━━━━\u001b[0m\u001b[37m\u001b[0m \u001b[1m0s\u001b[0m 1ms/step - accuracy: 0.9282 - loss: 0.2666\n"
     ]
    },
    {
     "data": {
      "text/plain": [
       "[0.2666330635547638, 0.9282000064849854]"
      ]
     },
     "execution_count": 17,
     "metadata": {},
     "output_type": "execute_result"
    }
   ],
   "source": [
    "model.evaluate(X_test_flattend, y_test)"
   ]
  },
  {
   "cell_type": "code",
   "execution_count": 18,
   "id": "68bb2020",
   "metadata": {},
   "outputs": [
    {
     "name": "stdout",
     "output_type": "stream",
     "text": [
      "\u001b[1m313/313\u001b[0m \u001b[32m━━━━━━━━━━━━━━━━━━━━\u001b[0m\u001b[37m\u001b[0m \u001b[1m0s\u001b[0m 719us/step\n"
     ]
    }
   ],
   "source": [
    "y_predicted = model.predict(X_test_flattend)"
   ]
  },
  {
   "cell_type": "code",
   "execution_count": 22,
   "id": "6ccb3e4b",
   "metadata": {},
   "outputs": [
    {
     "data": {
      "text/plain": [
       "array([[2.4543598e-03, 8.9390637e-09, 1.8253043e-02, ..., 9.9985445e-01,\n",
       "        5.8385573e-02, 7.2683990e-01],\n",
       "       [2.1622983e-01, 2.2849077e-03, 9.9980575e-01, ..., 1.5398404e-15,\n",
       "        8.6279288e-02, 5.3338939e-12],\n",
       "       [9.4196912e-05, 9.9322754e-01, 6.9875067e-01, ..., 3.4228534e-02,\n",
       "        2.9501325e-01, 3.4262910e-02],\n",
       "       ...,\n",
       "       [4.5032900e-07, 2.2753244e-07, 8.1287581e-04, ..., 2.1200123e-01,\n",
       "        4.4285756e-01, 7.9382449e-01],\n",
       "       [5.7694115e-06, 1.5172799e-05, 1.9186067e-05, ..., 1.6629047e-05,\n",
       "        5.5484039e-01, 1.7167094e-05],\n",
       "       [4.8768162e-04, 4.4050241e-12, 1.7301679e-01, ..., 2.7214208e-11,\n",
       "        2.8698467e-05, 1.8488022e-08]], shape=(10000, 10), dtype=float32)"
      ]
     },
     "execution_count": 22,
     "metadata": {},
     "output_type": "execute_result"
    }
   ],
   "source": [
    "y_predicted"
   ]
  },
  {
   "cell_type": "code",
   "execution_count": 20,
   "id": "ca50288c",
   "metadata": {},
   "outputs": [
    {
     "data": {
      "text/plain": [
       "<matplotlib.image.AxesImage at 0x194f33d9e50>"
      ]
     },
     "execution_count": 20,
     "metadata": {},
     "output_type": "execute_result"
    },
    {
     "data": {
      "image/png": "[encoded data removed]",
      "text/plain": [
       "<Figure size 480x480 with 1 Axes>"
      ]
     },
     "metadata": {},
     "output_type": "display_data"
    }
   ],
   "source": [
    "plt.matshow(X_test[416])"
   ]
  },
  {
   "cell_type": "markdown",
   "id": "1ac60827",
   "metadata": {},
   "source": [
    "## np.argmax finds a maximum element from an array and returns the index of it"
   ]
  },
  {
   "cell_type": "code",
   "execution_count": null,
   "id": "ab400716",
   "metadata": {},
   "outputs": [
    {
     "data": {
      "text/plain": [
       "np.int64(1)"
      ]
     },
     "execution_count": 23,
     "metadata": {},
     "output_type": "execute_result"
    }
   ],
   "source": [
    "list=[2,4,53,5,9]\n",
    "np.argmax(list)"
   ]
  },
  {
   "cell_type": "code",
   "execution_count": 25,
   "id": "0e8025a0",
   "metadata": {},
   "outputs": [
    {
     "data": {
      "text/plain": [
       "np.int64(1)"
      ]
     },
     "execution_count": 25,
     "metadata": {},
     "output_type": "execute_result"
    }
   ],
   "source": [
    "np.argmax(y_predicted[416])"
   ]
  },
  {
   "cell_type": "code",
   "execution_count": 26,
   "id": "fa2f6326",
   "metadata": {},
   "outputs": [
    {
     "data": {
      "text/plain": [
       "np.float32(0.99936634)"
      ]
     },
     "execution_count": 26,
     "metadata": {},
     "output_type": "execute_result"
    }
   ],
   "source": [
    "max(y_predicted[416])"
   ]
  },
  {
   "cell_type": "code",
   "execution_count": 31,
   "id": "a80ebf04",
   "metadata": {},
   "outputs": [
    {
     "data": {
      "text/plain": [
       "np.uint8(1)"
      ]
     },
     "execution_count": 31,
     "metadata": {},
     "output_type": "execute_result"
    }
   ],
   "source": [
    "y_test[416]"
   ]
  },
  {
   "cell_type": "code",
   "execution_count": 33,
   "id": "cb820b5d",
   "metadata": {},
   "outputs": [],
   "source": [
    "y_predicted_lables = [np.argmax(i) for i in y_predicted]"
   ]
  },
  {
   "cell_type": "code",
   "execution_count": 40,
   "id": "cc6a2cb4",
   "metadata": {},
   "outputs": [],
   "source": [
    "from sklearn.metrics import confusion_matrix"
   ]
  },
  {
   "cell_type": "code",
   "execution_count": 43,
   "id": "e3225517",
   "metadata": {},
   "outputs": [],
   "source": [
    "cm = confusion_matrix(y_test,y_predicted_lables)"
   ]
  },
  {
   "cell_type": "code",
   "execution_count": 51,
   "id": "9c07a03a",
   "metadata": {},
   "outputs": [
    {
     "data": {
      "image/png": "[encoded data removed]",
      "text/plain": [
       "<Figure size 640x480 with 2 Axes>"
      ]
     },
     "metadata": {},
     "output_type": "display_data"
    }
   ],
   "source": [
    "import seaborn as sns\n",
    "sns.heatmap(cm, annot=True, fmt='d',cmap='coolwarm',xticklabels=range(10), yticklabels=range(10))\n",
    "plt.xlabel('predicted')\n",
    "plt.ylabel('True')\n",
    "plt.title('confution matrix')\n",
    "plt.show()"
   ]
  },
  {
   "cell_type": "code",
   "execution_count": 49,
   "id": "c22c6adf",
   "metadata": {},
   "outputs": [
    {
     "data": {
      "text/plain": [
       "[np.int64(7),\n",
       " np.int64(2),\n",
       " np.int64(1),\n",
       " np.int64(0),\n",
       " np.int64(4),\n",
       " np.int64(1),\n",
       " np.int64(4),\n",
       " np.int64(9),\n",
       " np.int64(6),\n",
       " np.int64(9),\n",
       " np.int64(0),\n",
       " np.int64(6),\n",
       " np.int64(9),\n",
       " np.int64(0),\n",
       " np.int64(1),\n",
       " np.int64(5),\n",
       " np.int64(9),\n",
       " np.int64(7),\n",
       " np.int64(3),\n",
       " np.int64(4),\n",
       " np.int64(9),\n",
       " np.int64(6),\n",
       " np.int64(6),\n",
       " np.int64(5),\n",
       " np.int64(4),\n",
       " np.int64(0),\n",
       " np.int64(7),\n",
       " np.int64(4),\n",
       " np.int64(0),\n",
       " np.int64(1),\n",
       " np.int64(3),\n",
       " np.int64(1),\n",
       " np.int64(3),\n",
       " np.int64(6),\n",
       " np.int64(7),\n",
       " np.int64(2),\n",
       " np.int64(7),\n",
       " np.int64(1),\n",
       " np.int64(2),\n",
       " np.int64(1),\n",
       " np.int64(1),\n",
       " np.int64(7),\n",
       " np.int64(4),\n",
       " np.int64(2),\n",
       " np.int64(3),\n",
       " np.int64(5),\n",
       " np.int64(1),\n",
       " np.int64(2),\n",
       " np.int64(4),\n",
       " np.int64(4),\n",
       " np.int64(6),\n",
       " np.int64(3),\n",
       " np.int64(5),\n",
       " np.int64(5),\n",
       " np.int64(6),\n",
       " np.int64(0),\n",
       " np.int64(4),\n",
       " np.int64(1),\n",
       " np.int64(9),\n",
       " np.int64(5),\n",
       " np.int64(7),\n",
       " np.int64(8),\n",
       " np.int64(9),\n",
       " np.int64(2),\n",
       " np.int64(7),\n",
       " np.int64(4),\n",
       " np.int64(2),\n",
       " np.int64(4),\n",
       " np.int64(3),\n",
       " np.int64(0),\n",
       " np.int64(7),\n",
       " np.int64(0),\n",
       " np.int64(2),\n",
       " np.int64(9),\n",
       " np.int64(1),\n",
       " np.int64(7),\n",
       " np.int64(3),\n",
       " np.int64(2),\n",
       " np.int64(9),\n",
       " np.int64(7),\n",
       " np.int64(7),\n",
       " np.int64(6),\n",
       " np.int64(2),\n",
       " np.int64(7),\n",
       " np.int64(8),\n",
       " np.int64(4),\n",
       " np.int64(7),\n",
       " np.int64(3),\n",
       " np.int64(6),\n",
       " np.int64(1),\n",
       " np.int64(3),\n",
       " np.int64(6),\n",
       " np.int64(9),\n",
       " np.int64(3),\n",
       " np.int64(1),\n",
       " np.int64(4),\n",
       " np.int64(1),\n",
       " np.int64(7),\n",
       " np.int64(6),\n",
       " np.int64(9),\n",
       " np.int64(6),\n",
       " np.int64(0),\n",
       " np.int64(5),\n",
       " np.int64(4),\n",
       " np.int64(9),\n",
       " np.int64(9),\n",
       " np.int64(2),\n",
       " np.int64(1),\n",
       " np.int64(9),\n",
       " np.int64(4),\n",
       " np.int64(8),\n",
       " np.int64(7),\n",
       " np.int64(3),\n",
       " np.int64(9),\n",
       " np.int64(7),\n",
       " np.int64(4),\n",
       " np.int64(4),\n",
       " np.int64(4),\n",
       " np.int64(9),\n",
       " np.int64(2),\n",
       " np.int64(5),\n",
       " np.int64(4),\n",
       " np.int64(7),\n",
       " np.int64(6),\n",
       " np.int64(7),\n",
       " np.int64(9),\n",
       " np.int64(0),\n",
       " np.int64(5),\n",
       " np.int64(8),\n",
       " np.int64(5),\n",
       " np.int64(6),\n",
       " np.int64(6),\n",
       " np.int64(5),\n",
       " np.int64(7),\n",
       " np.int64(8),\n",
       " np.int64(1),\n",
       " np.int64(0),\n",
       " np.int64(1),\n",
       " np.int64(6),\n",
       " np.int64(4),\n",
       " np.int64(6),\n",
       " np.int64(7),\n",
       " np.int64(3),\n",
       " np.int64(1),\n",
       " np.int64(7),\n",
       " np.int64(1),\n",
       " np.int64(8),\n",
       " np.int64(2),\n",
       " np.int64(0),\n",
       " np.int64(9),\n",
       " np.int64(9),\n",
       " np.int64(9),\n",
       " np.int64(5),\n",
       " np.int64(5),\n",
       " np.int64(1),\n",
       " np.int64(5),\n",
       " np.int64(6),\n",
       " np.int64(0),\n",
       " np.int64(3),\n",
       " np.int64(4),\n",
       " np.int64(4),\n",
       " np.int64(6),\n",
       " np.int64(5),\n",
       " np.int64(4),\n",
       " np.int64(6),\n",
       " np.int64(5),\n",
       " np.int64(4),\n",
       " np.int64(5),\n",
       " np.int64(1),\n",
       " np.int64(4),\n",
       " np.int64(4),\n",
       " np.int64(7),\n",
       " np.int64(2),\n",
       " np.int64(3),\n",
       " np.int64(2),\n",
       " np.int64(7),\n",
       " np.int64(1),\n",
       " np.int64(8),\n",
       " np.int64(1),\n",
       " np.int64(8),\n",
       " np.int64(1),\n",
       " np.int64(8),\n",
       " np.int64(5),\n",
       " np.int64(0),\n",
       " np.int64(8),\n",
       " np.int64(9),\n",
       " np.int64(2),\n",
       " np.int64(5),\n",
       " np.int64(0),\n",
       " np.int64(1),\n",
       " np.int64(1),\n",
       " np.int64(1),\n",
       " np.int64(0),\n",
       " np.int64(9),\n",
       " np.int64(0),\n",
       " np.int64(5),\n",
       " np.int64(1),\n",
       " np.int64(6),\n",
       " np.int64(4),\n",
       " np.int64(2),\n",
       " np.int64(3),\n",
       " np.int64(6),\n",
       " np.int64(1),\n",
       " np.int64(1),\n",
       " np.int64(1),\n",
       " np.int64(3),\n",
       " np.int64(9),\n",
       " np.int64(5),\n",
       " np.int64(2),\n",
       " np.int64(9),\n",
       " np.int64(4),\n",
       " np.int64(7),\n",
       " np.int64(9),\n",
       " np.int64(3),\n",
       " np.int64(9),\n",
       " np.int64(0),\n",
       " np.int64(3),\n",
       " np.int64(6),\n",
       " np.int64(5),\n",
       " np.int64(5),\n",
       " np.int64(7),\n",
       " np.int64(2),\n",
       " np.int64(2),\n",
       " np.int64(7),\n",
       " np.int64(1),\n",
       " np.int64(2),\n",
       " np.int64(8),\n",
       " np.int64(4),\n",
       " np.int64(1),\n",
       " np.int64(7),\n",
       " np.int64(3),\n",
       " np.int64(3),\n",
       " np.int64(8),\n",
       " np.int64(7),\n",
       " np.int64(7),\n",
       " np.int64(9),\n",
       " np.int64(2),\n",
       " np.int64(2),\n",
       " np.int64(4),\n",
       " np.int64(1),\n",
       " np.int64(5),\n",
       " np.int64(8),\n",
       " np.int64(8),\n",
       " np.int64(7),\n",
       " np.int64(2),\n",
       " np.int64(3),\n",
       " np.int64(0),\n",
       " np.int64(2),\n",
       " np.int64(4),\n",
       " np.int64(2),\n",
       " np.int64(4),\n",
       " np.int64(1),\n",
       " np.int64(9),\n",
       " np.int64(5),\n",
       " np.int64(7),\n",
       " np.int64(7),\n",
       " np.int64(2),\n",
       " np.int64(8),\n",
       " np.int64(2),\n",
       " np.int64(0),\n",
       " np.int64(8),\n",
       " np.int64(5),\n",
       " np.int64(7),\n",
       " np.int64(7),\n",
       " np.int64(9),\n",
       " np.int64(1),\n",
       " np.int64(8),\n",
       " np.int64(1),\n",
       " np.int64(8),\n",
       " np.int64(0),\n",
       " np.int64(3),\n",
       " np.int64(0),\n",
       " np.int64(1),\n",
       " np.int64(9),\n",
       " np.int64(9),\n",
       " np.int64(4),\n",
       " np.int64(1),\n",
       " np.int64(8),\n",
       " np.int64(2),\n",
       " np.int64(1),\n",
       " np.int64(2),\n",
       " np.int64(9),\n",
       " np.int64(7),\n",
       " np.int64(5),\n",
       " np.int64(9),\n",
       " np.int64(2),\n",
       " np.int64(6),\n",
       " np.int64(4),\n",
       " np.int64(1),\n",
       " np.int64(5),\n",
       " np.int64(4),\n",
       " np.int64(2),\n",
       " np.int64(9),\n",
       " np.int64(2),\n",
       " np.int64(0),\n",
       " np.int64(4),\n",
       " np.int64(0),\n",
       " np.int64(0),\n",
       " np.int64(2),\n",
       " np.int64(8),\n",
       " np.int64(6),\n",
       " np.int64(7),\n",
       " np.int64(1),\n",
       " np.int64(2),\n",
       " np.int64(4),\n",
       " np.int64(0),\n",
       " np.int64(2),\n",
       " np.int64(9),\n",
       " np.int64(4),\n",
       " np.int64(3),\n",
       " np.int64(3),\n",
       " np.int64(0),\n",
       " np.int64(0),\n",
       " np.int64(3),\n",
       " np.int64(1),\n",
       " np.int64(9),\n",
       " np.int64(6),\n",
       " np.int64(5),\n",
       " np.int64(2),\n",
       " np.int64(5),\n",
       " np.int64(7),\n",
       " np.int64(7),\n",
       " np.int64(9),\n",
       " np.int64(3),\n",
       " np.int64(0),\n",
       " np.int64(4),\n",
       " np.int64(2),\n",
       " np.int64(0),\n",
       " np.int64(7),\n",
       " np.int64(1),\n",
       " np.int64(1),\n",
       " np.int64(2),\n",
       " np.int64(1),\n",
       " np.int64(5),\n",
       " np.int64(3),\n",
       " np.int64(3),\n",
       " np.int64(9),\n",
       " np.int64(7),\n",
       " np.int64(8),\n",
       " np.int64(6),\n",
       " np.int64(3),\n",
       " np.int64(6),\n",
       " np.int64(1),\n",
       " np.int64(3),\n",
       " np.int64(5),\n",
       " np.int64(1),\n",
       " np.int64(0),\n",
       " np.int64(5),\n",
       " np.int64(1),\n",
       " np.int64(3),\n",
       " np.int64(1),\n",
       " np.int64(5),\n",
       " np.int64(0),\n",
       " np.int64(6),\n",
       " np.int64(1),\n",
       " np.int64(8),\n",
       " np.int64(5),\n",
       " np.int64(1),\n",
       " np.int64(7),\n",
       " np.int64(9),\n",
       " np.int64(4),\n",
       " np.int64(6),\n",
       " np.int64(7),\n",
       " np.int64(2),\n",
       " np.int64(5),\n",
       " np.int64(0),\n",
       " np.int64(6),\n",
       " np.int64(5),\n",
       " np.int64(6),\n",
       " np.int64(3),\n",
       " np.int64(7),\n",
       " np.int64(2),\n",
       " np.int64(0),\n",
       " np.int64(8),\n",
       " np.int64(8),\n",
       " np.int64(5),\n",
       " np.int64(4),\n",
       " np.int64(1),\n",
       " np.int64(1),\n",
       " np.int64(4),\n",
       " np.int64(0),\n",
       " np.int64(7),\n",
       " np.int64(3),\n",
       " np.int64(7),\n",
       " np.int64(6),\n",
       " np.int64(1),\n",
       " np.int64(6),\n",
       " np.int64(2),\n",
       " np.int64(1),\n",
       " np.int64(9),\n",
       " np.int64(2),\n",
       " np.int64(5),\n",
       " np.int64(6),\n",
       " np.int64(1),\n",
       " np.int64(9),\n",
       " np.int64(5),\n",
       " np.int64(2),\n",
       " np.int64(5),\n",
       " np.int64(4),\n",
       " np.int64(4),\n",
       " np.int64(2),\n",
       " np.int64(8),\n",
       " np.int64(3),\n",
       " np.int64(5),\n",
       " np.int64(2),\n",
       " np.int64(4),\n",
       " np.int64(5),\n",
       " np.int64(0),\n",
       " np.int64(3),\n",
       " np.int64(1),\n",
       " np.int64(7),\n",
       " np.int64(7),\n",
       " np.int64(5),\n",
       " np.int64(7),\n",
       " np.int64(9),\n",
       " np.int64(7),\n",
       " np.int64(1),\n",
       " np.int64(9),\n",
       " np.int64(2),\n",
       " np.int64(1),\n",
       " np.int64(4),\n",
       " np.int64(2),\n",
       " np.int64(9),\n",
       " np.int64(2),\n",
       " np.int64(0),\n",
       " np.int64(4),\n",
       " np.int64(9),\n",
       " np.int64(1),\n",
       " np.int64(4),\n",
       " np.int64(8),\n",
       " np.int64(1),\n",
       " np.int64(8),\n",
       " np.int64(4),\n",
       " np.int64(5),\n",
       " np.int64(9),\n",
       " np.int64(7),\n",
       " np.int64(8),\n",
       " np.int64(3),\n",
       " np.int64(7),\n",
       " np.int64(6),\n",
       " np.int64(0),\n",
       " np.int64(0),\n",
       " np.int64(3),\n",
       " np.int64(0),\n",
       " np.int64(2),\n",
       " np.int64(0),\n",
       " np.int64(6),\n",
       " np.int64(4),\n",
       " np.int64(8),\n",
       " np.int64(3),\n",
       " np.int64(3),\n",
       " np.int64(3),\n",
       " np.int64(2),\n",
       " np.int64(3),\n",
       " np.int64(9),\n",
       " np.int64(1),\n",
       " np.int64(2),\n",
       " np.int64(6),\n",
       " np.int64(8),\n",
       " np.int64(0),\n",
       " np.int64(5),\n",
       " np.int64(6),\n",
       " np.int64(6),\n",
       " np.int64(6),\n",
       " np.int64(3),\n",
       " np.int64(8),\n",
       " np.int64(8),\n",
       " np.int64(2),\n",
       " np.int64(9),\n",
       " np.int64(5),\n",
       " np.int64(8),\n",
       " np.int64(9),\n",
       " np.int64(6),\n",
       " np.int64(1),\n",
       " np.int64(8),\n",
       " np.int64(4),\n",
       " np.int64(1),\n",
       " np.int64(2),\n",
       " np.int64(8),\n",
       " np.int64(3),\n",
       " np.int64(1),\n",
       " np.int64(9),\n",
       " np.int64(7),\n",
       " np.int64(5),\n",
       " np.int64(4),\n",
       " np.int64(0),\n",
       " np.int64(8),\n",
       " np.int64(9),\n",
       " np.int64(9),\n",
       " np.int64(1),\n",
       " np.int64(0),\n",
       " np.int64(5),\n",
       " np.int64(2),\n",
       " np.int64(3),\n",
       " np.int64(7),\n",
       " np.int64(8),\n",
       " np.int64(9),\n",
       " np.int64(4),\n",
       " np.int64(0),\n",
       " np.int64(6),\n",
       " np.int64(3),\n",
       " np.int64(9),\n",
       " np.int64(3),\n",
       " np.int64(2),\n",
       " np.int64(1),\n",
       " np.int64(3),\n",
       " np.int64(1),\n",
       " np.int64(5),\n",
       " np.int64(6),\n",
       " np.int64(5),\n",
       " np.int64(7),\n",
       " np.int64(4),\n",
       " np.int64(2),\n",
       " np.int64(2),\n",
       " np.int64(6),\n",
       " np.int64(3),\n",
       " np.int64(2),\n",
       " np.int64(6),\n",
       " np.int64(5),\n",
       " np.int64(4),\n",
       " np.int64(8),\n",
       " np.int64(9),\n",
       " np.int64(7),\n",
       " np.int64(1),\n",
       " np.int64(3),\n",
       " np.int64(0),\n",
       " np.int64(3),\n",
       " np.int64(8),\n",
       " np.int64(2),\n",
       " np.int64(1),\n",
       " np.int64(9),\n",
       " np.int64(6),\n",
       " np.int64(4),\n",
       " np.int64(4),\n",
       " np.int64(6),\n",
       " np.int64(4),\n",
       " np.int64(1),\n",
       " np.int64(1),\n",
       " np.int64(8),\n",
       " np.int64(2),\n",
       " np.int64(5),\n",
       " np.int64(4),\n",
       " np.int64(2),\n",
       " np.int64(3),\n",
       " np.int64(4),\n",
       " np.int64(0),\n",
       " np.int64(0),\n",
       " np.int64(2),\n",
       " np.int64(3),\n",
       " np.int64(2),\n",
       " np.int64(7),\n",
       " np.int64(1),\n",
       " np.int64(0),\n",
       " np.int64(8),\n",
       " np.int64(7),\n",
       " np.int64(4),\n",
       " np.int64(4),\n",
       " np.int64(7),\n",
       " np.int64(9),\n",
       " np.int64(6),\n",
       " np.int64(9),\n",
       " np.int64(0),\n",
       " np.int64(9),\n",
       " np.int64(8),\n",
       " np.int64(0),\n",
       " np.int64(9),\n",
       " np.int64(6),\n",
       " np.int64(0),\n",
       " np.int64(6),\n",
       " np.int64(5),\n",
       " np.int64(5),\n",
       " np.int64(4),\n",
       " np.int64(8),\n",
       " np.int64(3),\n",
       " np.int64(3),\n",
       " np.int64(9),\n",
       " np.int64(3),\n",
       " np.int64(3),\n",
       " np.int64(2),\n",
       " np.int64(7),\n",
       " np.int64(8),\n",
       " np.int64(0),\n",
       " np.int64(2),\n",
       " np.int64(8),\n",
       " np.int64(1),\n",
       " np.int64(7),\n",
       " np.int64(0),\n",
       " np.int64(6),\n",
       " np.int64(5),\n",
       " np.int64(4),\n",
       " np.int64(3),\n",
       " np.int64(3),\n",
       " np.int64(0),\n",
       " np.int64(9),\n",
       " np.int64(6),\n",
       " np.int64(3),\n",
       " np.int64(8),\n",
       " np.int64(0),\n",
       " np.int64(9),\n",
       " np.int64(9),\n",
       " np.int64(6),\n",
       " np.int64(8),\n",
       " np.int64(6),\n",
       " np.int64(8),\n",
       " np.int64(5),\n",
       " np.int64(7),\n",
       " np.int64(8),\n",
       " np.int64(6),\n",
       " np.int64(0),\n",
       " np.int64(2),\n",
       " np.int64(4),\n",
       " np.int64(0),\n",
       " np.int64(2),\n",
       " np.int64(8),\n",
       " np.int64(3),\n",
       " np.int64(1),\n",
       " np.int64(9),\n",
       " np.int64(7),\n",
       " np.int64(5),\n",
       " np.int64(8),\n",
       " np.int64(0),\n",
       " np.int64(8),\n",
       " np.int64(4),\n",
       " np.int64(6),\n",
       " np.int64(2),\n",
       " np.int64(6),\n",
       " np.int64(7),\n",
       " np.int64(9),\n",
       " np.int64(9),\n",
       " np.int64(6),\n",
       " np.int64(9),\n",
       " np.int64(8),\n",
       " np.int64(2),\n",
       " np.int64(2),\n",
       " np.int64(9),\n",
       " np.int64(2),\n",
       " np.int64(7),\n",
       " np.int64(3),\n",
       " np.int64(5),\n",
       " np.int64(9),\n",
       " np.int64(1),\n",
       " np.int64(8),\n",
       " np.int64(0),\n",
       " np.int64(2),\n",
       " np.int64(0),\n",
       " np.int64(5),\n",
       " np.int64(2),\n",
       " np.int64(1),\n",
       " np.int64(3),\n",
       " np.int64(7),\n",
       " np.int64(6),\n",
       " np.int64(7),\n",
       " np.int64(1),\n",
       " np.int64(2),\n",
       " np.int64(5),\n",
       " np.int64(8),\n",
       " np.int64(0),\n",
       " np.int64(3),\n",
       " np.int64(7),\n",
       " np.int64(9),\n",
       " np.int64(4),\n",
       " np.int64(0),\n",
       " np.int64(9),\n",
       " np.int64(1),\n",
       " np.int64(8),\n",
       " np.int64(6),\n",
       " np.int64(7),\n",
       " np.int64(7),\n",
       " np.int64(4),\n",
       " np.int64(3),\n",
       " np.int64(4),\n",
       " np.int64(9),\n",
       " np.int64(1),\n",
       " np.int64(9),\n",
       " np.int64(5),\n",
       " np.int64(1),\n",
       " np.int64(7),\n",
       " np.int64(3),\n",
       " np.int64(9),\n",
       " np.int64(7),\n",
       " np.int64(6),\n",
       " np.int64(9),\n",
       " np.int64(1),\n",
       " np.int64(3),\n",
       " np.int64(2),\n",
       " np.int64(8),\n",
       " np.int64(3),\n",
       " np.int64(3),\n",
       " np.int64(6),\n",
       " np.int64(7),\n",
       " np.int64(2),\n",
       " np.int64(4),\n",
       " np.int64(7),\n",
       " np.int64(8),\n",
       " np.int64(5),\n",
       " np.int64(1),\n",
       " np.int64(1),\n",
       " np.int64(4),\n",
       " np.int64(4),\n",
       " np.int64(3),\n",
       " np.int64(1),\n",
       " np.int64(0),\n",
       " np.int64(7),\n",
       " np.int64(7),\n",
       " np.int64(0),\n",
       " np.int64(7),\n",
       " np.int64(9),\n",
       " np.int64(9),\n",
       " np.int64(4),\n",
       " np.int64(8),\n",
       " np.int64(5),\n",
       " np.int64(5),\n",
       " np.int64(4),\n",
       " np.int64(0),\n",
       " np.int64(8),\n",
       " np.int64(2),\n",
       " np.int64(1),\n",
       " np.int64(6),\n",
       " np.int64(8),\n",
       " np.int64(4),\n",
       " np.int64(2),\n",
       " np.int64(0),\n",
       " np.int64(4),\n",
       " np.int64(0),\n",
       " np.int64(6),\n",
       " np.int64(1),\n",
       " np.int64(7),\n",
       " np.int64(3),\n",
       " np.int64(2),\n",
       " np.int64(6),\n",
       " np.int64(7),\n",
       " np.int64(2),\n",
       " np.int64(6),\n",
       " np.int64(9),\n",
       " np.int64(3),\n",
       " np.int64(1),\n",
       " np.int64(4),\n",
       " np.int64(6),\n",
       " np.int64(2),\n",
       " np.int64(5),\n",
       " np.int64(9),\n",
       " np.int64(2),\n",
       " np.int64(0),\n",
       " np.int64(6),\n",
       " np.int64(2),\n",
       " np.int64(1),\n",
       " np.int64(7),\n",
       " np.int64(3),\n",
       " np.int64(4),\n",
       " np.int64(1),\n",
       " np.int64(0),\n",
       " np.int64(5),\n",
       " np.int64(4),\n",
       " np.int64(3),\n",
       " np.int64(1),\n",
       " np.int64(1),\n",
       " np.int64(7),\n",
       " np.int64(4),\n",
       " np.int64(9),\n",
       " np.int64(9),\n",
       " np.int64(9),\n",
       " np.int64(8),\n",
       " np.int64(4),\n",
       " np.int64(0),\n",
       " np.int64(2),\n",
       " np.int64(4),\n",
       " np.int64(5),\n",
       " np.int64(1),\n",
       " np.int64(1),\n",
       " np.int64(6),\n",
       " np.int64(4),\n",
       " np.int64(7),\n",
       " np.int64(1),\n",
       " np.int64(9),\n",
       " np.int64(4),\n",
       " np.int64(2),\n",
       " np.int64(4),\n",
       " np.int64(1),\n",
       " np.int64(5),\n",
       " np.int64(5),\n",
       " np.int64(3),\n",
       " np.int64(5),\n",
       " np.int64(3),\n",
       " np.int64(1),\n",
       " np.int64(4),\n",
       " np.int64(5),\n",
       " np.int64(6),\n",
       " np.int64(8),\n",
       " np.int64(9),\n",
       " np.int64(4),\n",
       " np.int64(1),\n",
       " np.int64(9),\n",
       " np.int64(3),\n",
       " np.int64(8),\n",
       " np.int64(0),\n",
       " np.int64(3),\n",
       " np.int64(2),\n",
       " np.int64(5),\n",
       " np.int64(1),\n",
       " np.int64(2),\n",
       " np.int64(8),\n",
       " np.int64(3),\n",
       " np.int64(4),\n",
       " np.int64(4),\n",
       " np.int64(0),\n",
       " np.int64(8),\n",
       " np.int64(8),\n",
       " np.int64(3),\n",
       " np.int64(3),\n",
       " np.int64(1),\n",
       " np.int64(7),\n",
       " np.int64(3),\n",
       " np.int64(5),\n",
       " np.int64(9),\n",
       " np.int64(6),\n",
       " np.int64(3),\n",
       " np.int64(2),\n",
       " np.int64(6),\n",
       " np.int64(1),\n",
       " np.int64(3),\n",
       " np.int64(6),\n",
       " np.int64(0),\n",
       " np.int64(7),\n",
       " np.int64(2),\n",
       " np.int64(1),\n",
       " np.int64(7),\n",
       " np.int64(1),\n",
       " np.int64(4),\n",
       " np.int64(2),\n",
       " np.int64(8),\n",
       " np.int64(2),\n",
       " np.int64(1),\n",
       " np.int64(7),\n",
       " np.int64(9),\n",
       " np.int64(6),\n",
       " np.int64(1),\n",
       " np.int64(1),\n",
       " np.int64(2),\n",
       " np.int64(4),\n",
       " np.int64(3),\n",
       " np.int64(1),\n",
       " np.int64(7),\n",
       " np.int64(7),\n",
       " np.int64(4),\n",
       " np.int64(7),\n",
       " np.int64(0),\n",
       " np.int64(7),\n",
       " np.int64(3),\n",
       " np.int64(1),\n",
       " np.int64(3),\n",
       " np.int64(1),\n",
       " np.int64(0),\n",
       " np.int64(7),\n",
       " np.int64(7),\n",
       " np.int64(0),\n",
       " np.int64(3),\n",
       " np.int64(5),\n",
       " np.int64(5),\n",
       " np.int64(2),\n",
       " np.int64(7),\n",
       " np.int64(6),\n",
       " np.int64(6),\n",
       " np.int64(9),\n",
       " np.int64(2),\n",
       " np.int64(8),\n",
       " np.int64(3),\n",
       " np.int64(5),\n",
       " np.int64(2),\n",
       " np.int64(2),\n",
       " np.int64(5),\n",
       " np.int64(6),\n",
       " np.int64(0),\n",
       " np.int64(8),\n",
       " np.int64(2),\n",
       " np.int64(9),\n",
       " np.int64(2),\n",
       " np.int64(8),\n",
       " np.int64(2),\n",
       " np.int64(8),\n",
       " np.int64(8),\n",
       " np.int64(7),\n",
       " np.int64(9),\n",
       " np.int64(9),\n",
       " np.int64(3),\n",
       " np.int64(0),\n",
       " np.int64(6),\n",
       " np.int64(6),\n",
       " np.int64(3),\n",
       " np.int64(2),\n",
       " np.int64(1),\n",
       " np.int64(5),\n",
       " np.int64(2),\n",
       " np.int64(2),\n",
       " np.int64(9),\n",
       " np.int64(3),\n",
       " np.int64(0),\n",
       " np.int64(0),\n",
       " np.int64(5),\n",
       " np.int64(2),\n",
       " np.int64(8),\n",
       " np.int64(1),\n",
       " np.int64(4),\n",
       " np.int64(4),\n",
       " np.int64(6),\n",
       " np.int64(0),\n",
       " np.int64(2),\n",
       " np.int64(9),\n",
       " np.int64(1),\n",
       " np.int64(4),\n",
       " np.int64(7),\n",
       " np.int64(4),\n",
       " np.int64(7),\n",
       " np.int64(3),\n",
       " np.int64(9),\n",
       " np.int64(8),\n",
       " np.int64(8),\n",
       " np.int64(4),\n",
       " np.int64(7),\n",
       " np.int64(1),\n",
       " np.int64(2),\n",
       " np.int64(1),\n",
       " np.int64(2),\n",
       " np.int64(2),\n",
       " np.int64(3),\n",
       " np.int64(7),\n",
       " np.int64(3),\n",
       " np.int64(2),\n",
       " np.int64(3),\n",
       " np.int64(9),\n",
       " np.int64(1),\n",
       " np.int64(7),\n",
       " np.int64(4),\n",
       " np.int64(0),\n",
       " np.int64(3),\n",
       " np.int64(5),\n",
       " np.int64(5),\n",
       " np.int64(8),\n",
       " np.int64(6),\n",
       " np.int64(5),\n",
       " np.int64(5),\n",
       " np.int64(6),\n",
       " np.int64(7),\n",
       " np.int64(6),\n",
       " np.int64(6),\n",
       " np.int64(3),\n",
       " np.int64(2),\n",
       " np.int64(7),\n",
       " np.int64(9),\n",
       " np.int64(1),\n",
       " np.int64(1),\n",
       " np.int64(2),\n",
       " np.int64(4),\n",
       " np.int64(6),\n",
       " np.int64(4),\n",
       " np.int64(9),\n",
       " np.int64(5),\n",
       " np.int64(6),\n",
       " np.int64(3),\n",
       " np.int64(3),\n",
       " np.int64(4),\n",
       " np.int64(7),\n",
       " np.int64(8),\n",
       " np.int64(9),\n",
       " np.int64(1),\n",
       " np.int64(1),\n",
       " np.int64(0),\n",
       " np.int64(9),\n",
       " np.int64(1),\n",
       " np.int64(4),\n",
       " np.int64(4),\n",
       " np.int64(5),\n",
       " np.int64(4),\n",
       " np.int64(0),\n",
       " np.int64(6),\n",
       " np.int64(2),\n",
       " np.int64(3),\n",
       " np.int64(3),\n",
       " np.int64(1),\n",
       " np.int64(5),\n",
       " np.int64(1),\n",
       " np.int64(2),\n",
       " np.int64(0),\n",
       " np.int64(2),\n",
       " np.int64(8),\n",
       " np.int64(1),\n",
       " np.int64(2),\n",
       " np.int64(6),\n",
       " np.int64(7),\n",
       " np.int64(1),\n",
       " np.int64(6),\n",
       " np.int64(2),\n",
       " np.int64(3),\n",
       " np.int64(9),\n",
       " np.int64(0),\n",
       " np.int64(1),\n",
       " np.int64(2),\n",
       " np.int64(2),\n",
       " np.int64(0),\n",
       " np.int64(8),\n",
       " np.int64(7),\n",
       " ...]"
      ]
     },
     "execution_count": 49,
     "metadata": {},
     "output_type": "execute_result"
    }
   ],
   "source": [
    "y_predicted_lables"
   ]
  },
  {
   "cell_type": "code",
   "execution_count": 52,
   "id": "342693a1",
   "metadata": {},
   "outputs": [
    {
     "data": {
      "text/plain": [
       "[np.int64(7), np.int64(2), np.int64(1), np.int64(0), np.int64(4)]"
      ]
     },
     "execution_count": 52,
     "metadata": {},
     "output_type": "execute_result"
    }
   ],
   "source": [
    "y_predicted_lables[:5]"
   ]
  },
  {
   "cell_type": "code",
   "execution_count": 64,
   "id": "3864d169",
   "metadata": {},
   "outputs": [
    {
     "name": "stdout",
     "output_type": "stream",
     "text": [
      "Epoch 1/2\n",
      "\u001b[1m1875/1875\u001b[0m \u001b[32m━━━━━━━━━━━━━━━━━━━━\u001b[0m\u001b[37m\u001b[0m \u001b[1m6s\u001b[0m 3ms/step - accuracy: 0.9366 - loss: 0.2100\n",
      "Epoch 2/2\n",
      "\u001b[1m1875/1875\u001b[0m \u001b[32m━━━━━━━━━━━━━━━━━━━━\u001b[0m\u001b[37m\u001b[0m \u001b[1m5s\u001b[0m 3ms/step - accuracy: 0.9713 - loss: 0.0931\n"
     ]
    },
    {
     "data": {
      "text/plain": [
       "<keras.src.callbacks.history.History at 0x194fd766850>"
      ]
     },
     "execution_count": 64,
     "metadata": {},
     "output_type": "execute_result"
    }
   ],
   "source": [
    "model = keras.Sequential([\n",
    "    keras.layers.Dense(200, input_shape=(784,),activation='relu'),\n",
    "    keras.layers.Dense(200, input_shape=(784,),activation='relu'),\n",
    "    keras.layers.Dense(200, input_shape=(784,),activation='relu'),\n",
    "    keras.layers.Dense(10,activation='sigmoid')\n",
    "])\n",
    "\n",
    "model.compile(optimizer='adam',\n",
    "              loss='sparse_categorical_crossentropy',\n",
    "              metrics=['accuracy'])\n",
    "\n",
    "model.fit(X_train_flattend,y_train,epochs=2)"
   ]
  },
  {
   "cell_type": "code",
   "execution_count": 65,
   "id": "ea4f3d62",
   "metadata": {},
   "outputs": [
    {
     "name": "stdout",
     "output_type": "stream",
     "text": [
      "\u001b[1m313/313\u001b[0m \u001b[32m━━━━━━━━━━━━━━━━━━━━\u001b[0m\u001b[37m\u001b[0m \u001b[1m1s\u001b[0m 1ms/step - accuracy: 0.9724 - loss: 0.0950\n"
     ]
    },
    {
     "data": {
      "text/plain": [
       "[0.09497283399105072, 0.9724000096321106]"
      ]
     },
     "execution_count": 65,
     "metadata": {},
     "output_type": "execute_result"
    }
   ],
   "source": [
    "model.evaluate(X_test_flattend,y_test)"
   ]
  },
  {
   "cell_type": "code",
   "execution_count": null,
   "id": "fbaa9d22",
   "metadata": {},
   "outputs": [],
   "source": []
  }
 ],
 "metadata": {
  "kernelspec": {
   "display_name": "Python 3",
   "language": "python",
   "name": "python3"
  },
  "language_info": {
   "codemirror_mode": {
    "name": "ipython",
    "version": 3
   },
   "file_extension": ".py",
   "mimetype": "text/x-python",
   "name": "python",
   "nbconvert_exporter": "python",
   "pygments_lexer": "ipython3",
   "version": "3.13.5"
  }
 },
 "nbformat": 4,
 "nbformat_minor": 5
}
